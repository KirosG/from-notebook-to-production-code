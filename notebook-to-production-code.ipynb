{
 "cells": [
  {
   "cell_type": "markdown",
   "metadata": {},
   "source": [
    "# From Notebook to Production Code "
   ]
  },
  {
   "cell_type": "code",
   "execution_count": 1,
   "metadata": {},
   "outputs": [],
   "source": [
    "import argparse\n",
    "from collections import defaultdict\n",
    "\n",
    "import numpy as np\n",
    "import pandas as pd\n",
    "import matplotlib.pyplot as plt\n",
    "import seaborn as sns\n",
    "from tqdm import tqdm\n",
    "\n",
    "import torch\n",
    "import torch.nn as nn\n",
    "import torch.nn.functional as F\n",
    "import torch.optim as optim\n",
    "from torch.autograd import Variable\n",
    "import torchvision\n",
    "import torchvision.transforms as transforms\n",
    "from torchvision.transforms import RandomCrop, RandomRotation\n",
    "\n",
    "%matplotlib inline"
   ]
  },
  {
   "cell_type": "markdown",
   "metadata": {},
   "source": [
    "The model used in this notebook is adapted from the original implementation of Yann LeCun's _LeNet_.\n",
    "You can find Yann LeCun's paper [here](resources/LeCun-CNNs.pdf)."
   ]
  },
  {
   "cell_type": "code",
   "execution_count": 2,
   "metadata": {},
   "outputs": [],
   "source": [
    "class LeNet(nn.Module):\n",
    "    def __init__(self):\n",
    "        super(LeNet, self).__init__()  # run initializer on the parent class\n",
    "\n",
    "        # Convolutional Layers\n",
    "        # 1 image, 6 output channels, 5x5 convolution\n",
    "        self.conv1 = nn.Conv2d(1, 6, kernel_size=(5, 5), stride=(1, 1))\n",
    "        self.conv2 = nn.Conv2d(6, 16, kernel_size=(5, 5), stride=(1, 1))\n",
    "\n",
    "        # Fully Connected Layers\n",
    "        self.fc1 = nn.Linear(256, 128)\n",
    "        self.fc2 = nn.Linear(128, 64)\n",
    "        self.fc3 = nn.Linear(64, 10)\n",
    "\n",
    "    def forward(self, x):\n",
    "        \"\"\"\n",
    "        forward must be overwritten in torch model class\n",
    "        \"\"\"\n",
    "        # Convolutional Layers\n",
    "        x = F.max_pool2d(F.relu(self.conv1(x)), (2, 2))  # add pooling layers\n",
    "        x = F.max_pool2d(F.relu(self.conv2(x)), (2, 2))\n",
    "        x = x.view(-1, 256)  # flatten to pass to fully connected layers\n",
    "\n",
    "        # Fully connected layers\n",
    "        x = F.relu(self.fc1(x))\n",
    "        x = F.relu(self.fc2(x))\n",
    "        x = self.fc3(x)\n",
    "\n",
    "        return x\n"
   ]
  },
  {
   "cell_type": "code",
   "execution_count": 3,
   "metadata": {},
   "outputs": [],
   "source": [
    "def load_data(training=True):\n",
    "    transform_ = transforms.Compose([\n",
    "        RandomRotation(45),\n",
    "        RandomCrop(28),\n",
    "        transforms.ToTensor(),\n",
    "    ])\n",
    "    data = torchvision.datasets.MNIST(\n",
    "        root='./data/',\n",
    "        train=training,\n",
    "        download=True,\n",
    "        transform=transform_,\n",
    "    )\n",
    "    loader = torch.utils.data.DataLoader(\n",
    "        data,\n",
    "        batch_size=16,\n",
    "        shuffle=True,\n",
    "        num_workers=2,\n",
    "    )\n",
    "\n",
    "    return loader"
   ]
  },
  {
   "cell_type": "code",
   "execution_count": 4,
   "metadata": {},
   "outputs": [
    {
     "name": "stdout",
     "output_type": "stream",
     "text": [
      "LeNet(\n",
      "  (conv1): Conv2d (1, 6, kernel_size=(5, 5), stride=(1, 1))\n",
      "  (conv2): Conv2d (6, 16, kernel_size=(5, 5), stride=(1, 1))\n",
      "  (fc1): Linear(in_features=256, out_features=128)\n",
      "  (fc2): Linear(in_features=128, out_features=64)\n",
      "  (fc3): Linear(in_features=64, out_features=10)\n",
      ")\n"
     ]
    }
   ],
   "source": [
    "results = defaultdict(list)\n",
    "\n",
    "model = LeNet()\n",
    "print(model)\n",
    "\n",
    "dataloader = load_data()\n",
    "criterion = nn.CrossEntropyLoss()\n",
    "optimizer = optim.Adam(model.parameters())\n",
    "\n",
    "for epoch in range(4):\n",
    "    steps = []\n",
    "    losses = []\n",
    "    accuracies = []\n",
    "\n",
    "    running_loss = 0.0\n",
    "    correct = 0\n",
    "    total = 0\n",
    "\n",
    "    for i, (inputs, labels) in enumerate(dataloader):\n",
    "        # wrap features as torch Variables\n",
    "        inputs, labels = Variable(inputs), Variable(labels)\n",
    "\n",
    "        # zero the parameter gradients\n",
    "        optimizer.zero_grad()\n",
    "\n",
    "        # forward + backward + optimize\n",
    "        outputs = model(inputs) # forward pass\n",
    "        loss = criterion(outputs, labels)  # optimization\n",
    "        loss.backward()  # compute back propagation\n",
    "        optimizer.step()  # update model parameters\n",
    "\n",
    "        running_loss += loss.data[0]\n",
    "\n",
    "        if i % 50 == 49:  # print every 100 mini-batches\n",
    "            _, predicted = torch.max(outputs.data, 1)\n",
    "            total += labels.size(0)\n",
    "            correct += predicted.eq(labels.data).cpu().sum()\n",
    "            accuracy = 100. * correct / total\n",
    "\n",
    "            steps.append(i+1)\n",
    "            losses.append(running_loss/100)\n",
    "            accuracies.append(accuracy)\n",
    "\n",
    "            running_loss = 0.0  # zero the loss\n",
    "    \n",
    "    # add observations to the dictionary\n",
    "    results['step'] += steps\n",
    "    results['loss_scores'] += losses\n",
    "    results['acc_scores'] += accuracies\n",
    "    results['epoch'] += [epoch+1] * len(steps)"
   ]
  },
  {
   "cell_type": "code",
   "execution_count": 5,
   "metadata": {},
   "outputs": [],
   "source": [
    "df = pd.DataFrame.from_dict(results)"
   ]
  },
  {
   "cell_type": "code",
   "execution_count": 6,
   "metadata": {},
   "outputs": [
    {
     "data": {
      "text/html": [
       "<div>\n",
       "<style scoped>\n",
       "    .dataframe tbody tr th:only-of-type {\n",
       "        vertical-align: middle;\n",
       "    }\n",
       "\n",
       "    .dataframe tbody tr th {\n",
       "        vertical-align: top;\n",
       "    }\n",
       "\n",
       "    .dataframe thead th {\n",
       "        text-align: right;\n",
       "    }\n",
       "</style>\n",
       "<table border=\"1\" class=\"dataframe\">\n",
       "  <thead>\n",
       "    <tr style=\"text-align: right;\">\n",
       "      <th></th>\n",
       "      <th>acc_scores</th>\n",
       "      <th>epoch</th>\n",
       "      <th>loss_scores</th>\n",
       "      <th>step</th>\n",
       "    </tr>\n",
       "  </thead>\n",
       "  <tbody>\n",
       "    <tr>\n",
       "      <th>295</th>\n",
       "      <td>97.007042</td>\n",
       "      <td>4</td>\n",
       "      <td>0.048718</td>\n",
       "      <td>3550</td>\n",
       "    </tr>\n",
       "    <tr>\n",
       "      <th>296</th>\n",
       "      <td>96.961806</td>\n",
       "      <td>4</td>\n",
       "      <td>0.034056</td>\n",
       "      <td>3600</td>\n",
       "    </tr>\n",
       "    <tr>\n",
       "      <th>297</th>\n",
       "      <td>97.003425</td>\n",
       "      <td>4</td>\n",
       "      <td>0.051085</td>\n",
       "      <td>3650</td>\n",
       "    </tr>\n",
       "    <tr>\n",
       "      <th>298</th>\n",
       "      <td>97.043919</td>\n",
       "      <td>4</td>\n",
       "      <td>0.043409</td>\n",
       "      <td>3700</td>\n",
       "    </tr>\n",
       "    <tr>\n",
       "      <th>299</th>\n",
       "      <td>97.000000</td>\n",
       "      <td>4</td>\n",
       "      <td>0.037835</td>\n",
       "      <td>3750</td>\n",
       "    </tr>\n",
       "  </tbody>\n",
       "</table>\n",
       "</div>"
      ],
      "text/plain": [
       "     acc_scores  epoch  loss_scores  step\n",
       "295   97.007042      4     0.048718  3550\n",
       "296   96.961806      4     0.034056  3600\n",
       "297   97.003425      4     0.051085  3650\n",
       "298   97.043919      4     0.043409  3700\n",
       "299   97.000000      4     0.037835  3750"
      ]
     },
     "execution_count": 6,
     "metadata": {},
     "output_type": "execute_result"
    }
   ],
   "source": [
    "df.tail(5)"
   ]
  },
  {
   "cell_type": "code",
   "execution_count": 7,
   "metadata": {},
   "outputs": [
    {
     "data": {
      "image/png": "[encoded data removed]",
      "text/plain": [
       "<Figure size 432x288 with 1 Axes>"
      ]
     },
     "metadata": {},
     "output_type": "display_data"
    }
   ],
   "source": [
    "fig, ax = plt.subplots()\n",
    "epochs = df.groupby('epoch')\n",
    "for epoch, data in epochs:\n",
    "    ax.plot(data['step'], data['loss_scores'], label='Epoch %d' % epoch)\n",
    "ax.legend(numpoints=1, loc='upper right')\n",
    "ax.set(xlabel=\"Steps\", ylabel=\"Loss\", title=\"Model Loss\");"
   ]
  },
  {
   "cell_type": "code",
   "execution_count": 8,
   "metadata": {},
   "outputs": [
    {
     "data": {
      "image/png": "[encoded data removed]",
      "text/plain": [
       "<Figure size 432x288 with 1 Axes>"
      ]
     },
     "metadata": {},
     "output_type": "display_data"
    }
   ],
   "source": [
    "fig, ax = plt.subplots()\n",
    "epochs = df.groupby('epoch')\n",
    "for epoch, data in epochs:\n",
    "    ax.plot(data['step'], data['acc_scores'], label='Epoch %d' % epoch)\n",
    "ax.legend(numpoints=1, loc='lower right')\n",
    "ax.set(xlabel=\"Steps\", ylabel=\"Accuracy\", title=\"Model Accuracy\");"
   ]
  }
 ],
 "metadata": {
  "kernelspec": {
   "display_name": "Python 3",
   "language": "python",
   "name": "python3"
  },
  "language_info": {
   "codemirror_mode": {
    "name": "ipython",
    "version": 3
   },
   "file_extension": ".py",
   "mimetype": "text/x-python",
   "name": "python",
   "nbconvert_exporter": "python",
   "pygments_lexer": "ipython3",
   "version": "3.6.5"
  }
 },
 "nbformat": 4,
 "nbformat_minor": 2
}
